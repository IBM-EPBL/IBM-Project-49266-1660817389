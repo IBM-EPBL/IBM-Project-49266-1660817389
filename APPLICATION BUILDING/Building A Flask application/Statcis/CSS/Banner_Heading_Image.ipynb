{
  "nbformat": 4,
  "nbformat_minor": 0,
  "metadata": {
    "colab": {
      "provenance": []
    },
    "kernelspec": {
      "name": "python3",
      "display_name": "Python 3"
    },
    "language_info": {
      "name": "python"
    }
  },
  "cells": [
    {
      "cell_type": "markdown",
      "source": [
        ".fit-cover {\n",
        "  object-fit: cover;\n",
        "}"
      ],
      "metadata": {
        "id": "TZFIm4bkxUQt"
      }
    }
  ]
}