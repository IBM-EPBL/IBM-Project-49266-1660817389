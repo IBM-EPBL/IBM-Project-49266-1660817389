{
  "nbformat": 4,
  "nbformat_minor": 0,
  "metadata": {
    "colab": {
      "provenance": []
    },
    "kernelspec": {
      "name": "python3",
      "display_name": "Python 3"
    },
    "language_info": {
      "name": "python"
    }
  },
  "cells": [
    {
      "cell_type": "code",
      "execution_count": null,
      "metadata": {
        "id": "i8UTymA-tKXr"
      },
      "outputs": [],
      "source": []
    },
    {
      "cell_type": "markdown",
      "source": [
        "<!DOCTYPE html>\n",
        "<html lang=\"en\">\n",
        "\n",
        "<head>\n",
        "    <meta charset=\"utf-8\">\n",
        "    <meta name=\"viewport\" content=\"width=device-width, initial-scale=1.0, shrink-to-fit=no\">\n",
        "    <title>SmartBridge_WebApp_VideoTemplate</title>\n",
        "    <link rel=\"stylesheet\" href=\"https://cdn.jsdelivr.net/npm/bootstrap@5.1.3/dist/css/bootstrap.min.css\">\n",
        "    <link rel=\"stylesheet\" href=\"https://use.fontawesome.com/releases/v5.12.0/css/all.css\">\n",
        "    <link rel=\"stylesheet\" href=\"assets/css/Banner-Heading-Image.css\">\n",
        "    <link rel=\"stylesheet\" href=\"assets/css/Navbar-Centered-Brand.css\">\n",
        "    <link rel=\"stylesheet\" href=\"assets/css/styles.css\">\n",
        "</head>\n",
        "\n",
        "<body style=\"background: rgb(39,43,48);\">\n",
        "    <nav class=\"navbar navbar-light navbar-expand-md py-3\" style=\"background: #212529;\">\n",
        "        <div class=\"container\">\n",
        "            <div></div><a class=\"navbar-brand d-flex align-items-center\" href=\"#\"><span\n",
        "                    class=\"bs-icon-sm bs-icon-rounded bs-icon-primary d-flex justify-content-center align-items-center me-2 bs-icon\"><i\n",
        "                        class=\"fas fa-flask\"></i></span><span style=\"color: rgb(255,255,255);\">Real-Time Communication\n",
        "                    System Powered By AI&nbsp;For Specially Abled</span></a>\n",
        "            <div></div>\n",
        "        </div>\n",
        "    </nav>\n",
        "    <section>\n",
        "        <div class=\"d-flex flex-column justify-content-center align-items-center\">\n",
        "            <div class=\"d-flex flex-column justify-content-center align-items-center\" id=\"div-video-feed\"\n",
        "                style=\"width: 640px;height: 480px;margin: 10px;min-height: 480px;min-width: 640px;border-radius: 10px;border: 4px dashed rgb(255,255,255) ;\">\n",
        "                <img src=\"{{ url_for('video_feed') }}\" style=\"width: 100%;height: 100%;color: rgb(255,255,255);text-align: center;font-size: 20px;\"\n",
        "                    alt=\"Camera Access Not Provided!\">\n",
        "            </div>\n",
        "        </div>\n",
        "        <div class=\"d-flex flex-column justify-content-center align-items-center\" style=\"margin-bottom: 10px;\"><button\n",
        "                class=\"btn btn-info\" type=\"button\" data-bs-target=\"#modal-1\" data-bs-toggle=\"modal\">Quick Reference\n",
        "                -<strong> ASL Alphabets</strong></button></div>\n",
        "    </section>\n",
        "    <section>\n",
        "        <div class=\"container\">\n",
        "            <div class=\"accordion text-white\" role=\"tablist\" id=\"accordion-1\">\n",
        "                <div class=\"accordion-item\" style=\"background: rgb(33,37,41);\">\n",
        "                    <h2 class=\"accordion-header\" role=\"tab\"><button class=\"accordion-button\" data-bs-toggle=\"collapse\"\n",
        "                            data-bs-target=\"#accordion-1 .item-1\" aria-expanded=\"true\"\n",
        "                            aria-controls=\"accordion-1 .item-1\"\n",
        "                            style=\"background: rgb(39,43,48);color: rgb(255,255,255);\">About The Project</button></h2>\n",
        "                    <div class=\"accordion-collapse collapse show item-1\" role=\"tabpanel\" data-bs-parent=\"#accordion-1\">\n",
        "                        <div class=\"accordion-body\">\n",
        "                            <p class=\"mb-0\">Artificial Intelligence has made it possible to handle our daily activities\n",
        "                                in new and simpler ways. With the ability to automate tasks that normally require human\n",
        "                                intelligence, such as speech and voice recognition, visual perception, predictive text\n",
        "                                functionality, decision-making, and a variety of other tasks, AI can assist people with\n",
        "                                disabilities by significantly improving their ability to get around and participate in\n",
        "                                daily activities.<br><br>Currently, Sign Recognition is available <strong>only for\n",
        "                                    alphabets A-I</strong> and not for J-Z, since J-Z alphabets also require Gesture\n",
        "                                Recognition for them to be able to be predicted correctly to a certain degree of\n",
        "                                accuracy.</p>\n",
        "                        </div>\n",
        "                    </div>\n",
        "                </div>\n",
        "                <div class=\"accordion-item\" style=\"background: rgb(33,37,41);\">\n",
        "                    <h2 class=\"accordion-header\" role=\"tab\"><button class=\"accordion-button collapsed\"\n",
        "                            data-bs-toggle=\"collapse\" data-bs-target=\"#accordion-1 .item-2\" aria-expanded=\"false\"\n",
        "                            aria-controls=\"accordion-1 .item-2\"\n",
        "                            style=\"background: rgb(39,43,48);color: rgb(231,241,255);\">Developed By</button></h2>\n",
        "                    <div class=\"accordion-collapse collapse item-2\" role=\"tabpanel\" data-bs-parent=\"#accordion-1\">\n",
        "                        <div class=\"accordion-body\">\n",
        "                            <p class=\"mb-0\">Students at VSB Engineering College\n",
        "                              <br><br>1. <strong>Vinotha.B</strong> 922519106181<br>2.\n",
        "                                <strong>Sivaranjani.A</strong> 922519106153<br>3. <strong>Nandhini.M</strong> 922519106501<br>4. <strong>Koppuremdevi.S</strong> 922519106080\n",
        "                            </p>\n",
        "                        </div>\n",
        "                    </div>\n",
        "                </div>\n",
        "            </div>\n",
        "        </div>\n",
        "    </section>\n",
        "    <div class=\"modal fade\" role=\"dialog\" tabindex=\"-1\" id=\"modal-1\">\n",
        "        <div class=\"modal-dialog\" role=\"document\">\n",
        "            <div class=\"modal-content\">\n",
        "                <div class=\"modal-header\">\n",
        "                    <h4 class=\"modal-title\">American Sign Language - Alphabets</h4><button type=\"button\"\n",
        "                        class=\"btn-close\" data-bs-dismiss=\"modal\" aria-label=\"Close\"></button>\n",
        "                </div>\n",
        "                <div class=\"modal-body\"><img src=\"{{ url_for('static', filename='img/ASL_Alphabets.png') }}\" width=\"100%\"></div>\n",
        "                <div class=\"modal-footer\"><button class=\"btn btn-secondary\" type=\"button\"\n",
        "                        data-bs-dismiss=\"modal\">Close</button></div>\n",
        "            </div>\n",
        "        </div>\n",
        "    </div>\n",
        "    <script src=\"https://cdn.jsdelivr.net/npm/bootstrap@5.1.3/dist/js/bootstrap.bundle.min.js\"></script>\n",
        "</body>\n",
        "\n",
        "</html>"
      ],
      "metadata": {
        "id": "JVs3OpPUtLc1"
      }
    },
    {
      "cell_type": "markdown",
      "source": [],
      "metadata": {
        "id": "6_b6apZ-tNw-"
      }
    }
  ]
}