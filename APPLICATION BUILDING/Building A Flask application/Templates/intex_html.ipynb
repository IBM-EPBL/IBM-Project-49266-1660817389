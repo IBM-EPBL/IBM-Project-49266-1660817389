{
  "nbformat": 4,
  "nbformat_minor": 0,
  "metadata": {
    "colab": {
      "provenance": []
    },
    "kernelspec": {
      "name": "python3",
      "display_name": "Python 3"
    },
    "language_info": {
      "name": "python"
    }
  },
  "cells": [
    {
      "cell_type": "markdown",
      "source": [
        "SmartBridge_WebApp_VideoTemplate\n",
        "Real-Time Communication System Powered By AI For Specially Abled"
      ],
      "metadata": {
        "id": "1u2i_spcjaY0"
      }
    },
    {
      "cell_type": "markdown",
      "source": [
        "Artificial Intelligence has made it possible to handle our daily activities in new and simpler ways. With the ability to automate tasks that normally require human intelligence, such as speech and voice recognition, visual perception, predictive text functionality, decision-making, and a variety of other tasks, AI can assist people with disabilities by significantly improving their ability to get around and participate in daily activities.\n",
        "\n",
        "Currently, Sign Recognition is available only for alphabets A-I and not for J-Z, since J-Z alphabets also require Gesture Recognition for them to be able to be predicted correctly to a certain degree of accuracy."
      ],
      "metadata": {
        "id": "FOcWKfpnjdjF"
      }
    },
    {
      "cell_type": "markdown",
      "source": [
        "Students at V V COLLEGE OF ENGINEERING \n",
        "\n",
        "1.Naveena.S 953419106036\n",
        "2.Muthubharathi.J 953419106033\n",
        "3.Rahamed Sugaina.K 953419106040\n",
        "4.Suriyalakshmi.V 953419106059\n",
        "5.Vijaya Sumathi.S 953419106061"
      ],
      "metadata": {
        "id": "kMswJNfzjqGW"
      }
    }
  ]
}