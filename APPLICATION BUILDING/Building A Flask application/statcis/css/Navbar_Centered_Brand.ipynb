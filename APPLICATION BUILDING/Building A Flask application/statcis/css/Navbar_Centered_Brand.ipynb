{
  "nbformat": 4,
  "nbformat_minor": 0,
  "metadata": {
    "colab": {
      "provenance": []
    },
    "kernelspec": {
      "name": "python3",
      "display_name": "Python 3"
    },
    "language_info": {
      "name": "python"
    }
  },
  "cells": [
    {
      "cell_type": "markdown",
      "source": [
        "bs-icon {\n",
        "  --bs-icon-size: .75rem;\n",
        "  display: flex;\n",
        "  flex-shrink: 0;\n",
        "  justify-content: center;\n",
        "  align-items: center;\n",
        "  font-size: var(--bs-icon-size);\n",
        "  width: calc(var(--bs-icon-size) * 2);\n",
        "  height: calc(var(--bs-icon-size) * 2);\n",
        "  color: var(--bs-primary);\n",
        "}\n",
        "\n",
        ".bs-icon-xs {\n",
        "  --bs-icon-size: 1rem;\n",
        "  width: calc(var(--bs-icon-size) * 1.5);\n",
        "  height: calc(var(--bs-icon-size) * 1.5);\n",
        "}\n",
        "\n",
        ".bs-icon-sm {\n",
        "  --bs-icon-size: 1rem;\n",
        "}\n",
        "\n",
        ".bs-icon-md {\n",
        "  --bs-icon-size: 1.5rem;\n",
        "}\n",
        "\n",
        ".bs-icon-lg {\n",
        "  --bs-icon-size: 2rem;\n",
        "}\n",
        "\n",
        ".bs-icon-xl {\n",
        "  --bs-icon-size: 2.5rem;\n",
        "}\n",
        "\n",
        ".bs-icon.bs-icon-primary {\n",
        "  color: var(--bs-white);\n",
        "  background: var(--bs-primary);\n",
        "}\n",
        "\n",
        ".bs-icon.bs-icon-primary-light {\n",
        "  color: var(--bs-primary);\n",
        "  background: rgba(var(--bs-primary-rgb), .2);\n",
        "}\n",
        "\n",
        ".bs-icon.bs-icon-semi-white {\n",
        "  color: var(--bs-primary);\n",
        "  background: rgba(255, 255, 255, .5);\n",
        "}\n",
        "\n",
        ".bs-icon.bs-icon-rounded {\n",
        "  border-radius: .5rem;\n",
        "}\n",
        "\n",
        ".bs-icon.bs-icon-circle {\n",
        "  border-radius: 50%;\n",
        "}"
      ],
      "metadata": {
        "id": "UpbCiyMbv4KO"
      }
    }
  ]
}